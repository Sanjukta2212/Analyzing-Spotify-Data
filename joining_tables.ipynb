{
 "cells": [
  {
   "cell_type": "code",
   "execution_count": 1,
   "metadata": {},
   "outputs": [],
   "source": [
    "from fake_tables import *"
   ]
  },
  {
   "cell_type": "code",
   "execution_count": 2,
   "metadata": {},
   "outputs": [
    {
     "name": "stdout",
     "output_type": "stream",
     "text": [
      "(40000, 7)\n",
      "Index(['User_Id', 'User_Email', 'User_Encrypted_Pass', 'User_Region',\n",
      "       'Created At', 'Is_Subscribed', 'Subscription_id'],\n",
      "      dtype='object')\n",
      "User_Id                  int64\n",
      "User_Email              object\n",
      "User_Encrypted_Pass     object\n",
      "User_Region             object\n",
      "Created At              object\n",
      "Is_Subscribed           object\n",
      "Subscription_id        float64\n",
      "dtype: object\n"
     ]
    }
   ],
   "source": [
    "user_table = User()\n",
    "print(user_table.shape)\n",
    "print(user_table.columns)\n",
    "print(user_table.dtypes)"
   ]
  },
  {
   "cell_type": "code",
   "execution_count": 3,
   "metadata": {},
   "outputs": [
    {
     "data": {
      "text/html": [
       "<div>\n",
       "<style scoped>\n",
       "    .dataframe tbody tr th:only-of-type {\n",
       "        vertical-align: middle;\n",
       "    }\n",
       "\n",
       "    .dataframe tbody tr th {\n",
       "        vertical-align: top;\n",
       "    }\n",
       "\n",
       "    .dataframe thead th {\n",
       "        text-align: right;\n",
       "    }\n",
       "</style>\n",
       "<table border=\"1\" class=\"dataframe\">\n",
       "  <thead>\n",
       "    <tr style=\"text-align: right;\">\n",
       "      <th></th>\n",
       "      <th>User_Id</th>\n",
       "      <th>User_Email</th>\n",
       "      <th>User_Encrypted_Pass</th>\n",
       "      <th>User_Region</th>\n",
       "      <th>Created At</th>\n",
       "      <th>Is_Subscribed</th>\n",
       "      <th>Subscription_id</th>\n",
       "    </tr>\n",
       "  </thead>\n",
       "  <tbody>\n",
       "    <tr>\n",
       "      <th>0</th>\n",
       "      <td>1</td>\n",
       "      <td>begf@gmail.com</td>\n",
       "      <td>56c668fbac91d1468a0b03eccff848ad</td>\n",
       "      <td>madckqotaa lhtyonh</td>\n",
       "      <td>09/09/2022</td>\n",
       "      <td>yes</td>\n",
       "      <td>1.0</td>\n",
       "    </tr>\n",
       "    <tr>\n",
       "      <th>1</th>\n",
       "      <td>2</td>\n",
       "      <td>gwnfchp@gmail.com</td>\n",
       "      <td>2e2f98dbccee141f64982aa8a428ca23</td>\n",
       "      <td>ntntbjulfx atpfgb voewltafi</td>\n",
       "      <td>13/02/2022</td>\n",
       "      <td>no</td>\n",
       "      <td>NaN</td>\n",
       "    </tr>\n",
       "    <tr>\n",
       "      <th>2</th>\n",
       "      <td>3</td>\n",
       "      <td>gulrv@gmail.com</td>\n",
       "      <td>63416f0d00835f52f07675f97c41baea</td>\n",
       "      <td>fgwn</td>\n",
       "      <td>16/04/2023</td>\n",
       "      <td>yes</td>\n",
       "      <td>2.0</td>\n",
       "    </tr>\n",
       "    <tr>\n",
       "      <th>3</th>\n",
       "      <td>4</td>\n",
       "      <td>kjagt@gmail.com</td>\n",
       "      <td>7c499f3422c6858695cdd77a0ee06c1a</td>\n",
       "      <td>uemvoewl</td>\n",
       "      <td>28/11/2023</td>\n",
       "      <td>no</td>\n",
       "      <td>NaN</td>\n",
       "    </tr>\n",
       "    <tr>\n",
       "      <th>4</th>\n",
       "      <td>5</td>\n",
       "      <td>dttcmadc@gmail.com</td>\n",
       "      <td>69dbac025f43735843633510f8de82db</td>\n",
       "      <td>bzkswiorzpbx vjyutt xoefahhyx</td>\n",
       "      <td>08/07/2023</td>\n",
       "      <td>yes</td>\n",
       "      <td>3.0</td>\n",
       "    </tr>\n",
       "  </tbody>\n",
       "</table>\n",
       "</div>"
      ],
      "text/plain": [
       "   User_Id          User_Email               User_Encrypted_Pass  \\\n",
       "0        1      begf@gmail.com  56c668fbac91d1468a0b03eccff848ad   \n",
       "1        2   gwnfchp@gmail.com  2e2f98dbccee141f64982aa8a428ca23   \n",
       "2        3     gulrv@gmail.com  63416f0d00835f52f07675f97c41baea   \n",
       "3        4     kjagt@gmail.com  7c499f3422c6858695cdd77a0ee06c1a   \n",
       "4        5  dttcmadc@gmail.com  69dbac025f43735843633510f8de82db   \n",
       "\n",
       "                     User_Region  Created At Is_Subscribed  Subscription_id  \n",
       "0             madckqotaa lhtyonh  09/09/2022           yes              1.0  \n",
       "1    ntntbjulfx atpfgb voewltafi  13/02/2022            no              NaN  \n",
       "2                           fgwn  16/04/2023           yes              2.0  \n",
       "3                       uemvoewl  28/11/2023            no              NaN  \n",
       "4  bzkswiorzpbx vjyutt xoefahhyx  08/07/2023           yes              3.0  "
      ]
     },
     "execution_count": 3,
     "metadata": {},
     "output_type": "execute_result"
    }
   ],
   "source": [
    "user_table.head()"
   ]
  },
  {
   "cell_type": "code",
   "execution_count": 4,
   "metadata": {},
   "outputs": [
    {
     "name": "stdout",
     "output_type": "stream",
     "text": [
      "(5000, 3)\n",
      "Index(['Album_Id', 'Album_Title', 'Album_Release_Date'], dtype='object')\n",
      "Album_Id               int64\n",
      "Album_Title           object\n",
      "Album_Release_Date    object\n",
      "dtype: object\n",
      "Album_Id              0\n",
      "Album_Title           0\n",
      "Album_Release_Date    0\n",
      "dtype: int64\n"
     ]
    }
   ],
   "source": [
    "album_table = Album()\n",
    "print(album_table.shape)\n",
    "print(album_table.columns)\n",
    "print(album_table.dtypes)\n",
    "print(album_table.isna().sum())\n",
    "## album datetime release date"
   ]
  },
  {
   "cell_type": "code",
   "execution_count": 5,
   "metadata": {},
   "outputs": [
    {
     "data": {
      "text/html": [
       "<div>\n",
       "<style scoped>\n",
       "    .dataframe tbody tr th:only-of-type {\n",
       "        vertical-align: middle;\n",
       "    }\n",
       "\n",
       "    .dataframe tbody tr th {\n",
       "        vertical-align: top;\n",
       "    }\n",
       "\n",
       "    .dataframe thead th {\n",
       "        text-align: right;\n",
       "    }\n",
       "</style>\n",
       "<table border=\"1\" class=\"dataframe\">\n",
       "  <thead>\n",
       "    <tr style=\"text-align: right;\">\n",
       "      <th></th>\n",
       "      <th>Album_Id</th>\n",
       "      <th>Album_Title</th>\n",
       "      <th>Album_Release_Date</th>\n",
       "    </tr>\n",
       "  </thead>\n",
       "  <tbody>\n",
       "    <tr>\n",
       "      <th>0</th>\n",
       "      <td>1</td>\n",
       "      <td>begf</td>\n",
       "      <td>09/09/2022</td>\n",
       "    </tr>\n",
       "    <tr>\n",
       "      <th>1</th>\n",
       "      <td>2</td>\n",
       "      <td>gwnfc</td>\n",
       "      <td>13/02/2022</td>\n",
       "    </tr>\n",
       "    <tr>\n",
       "      <th>2</th>\n",
       "      <td>3</td>\n",
       "      <td>eodgul</td>\n",
       "      <td>16/04/2023</td>\n",
       "    </tr>\n",
       "    <tr>\n",
       "      <th>3</th>\n",
       "      <td>4</td>\n",
       "      <td>rvkjag</td>\n",
       "      <td>28/11/2023</td>\n",
       "    </tr>\n",
       "    <tr>\n",
       "      <th>4</th>\n",
       "      <td>5</td>\n",
       "      <td>jdttcm</td>\n",
       "      <td>08/07/2023</td>\n",
       "    </tr>\n",
       "  </tbody>\n",
       "</table>\n",
       "</div>"
      ],
      "text/plain": [
       "   Album_Id Album_Title Album_Release_Date\n",
       "0         1        begf         09/09/2022\n",
       "1         2       gwnfc         13/02/2022\n",
       "2         3      eodgul         16/04/2023\n",
       "3         4      rvkjag         28/11/2023\n",
       "4         5      jdttcm         08/07/2023"
      ]
     },
     "execution_count": 5,
     "metadata": {},
     "output_type": "execute_result"
    }
   ],
   "source": [
    "album_table.head()"
   ]
  },
  {
   "cell_type": "code",
   "execution_count": 6,
   "metadata": {},
   "outputs": [
    {
     "name": "stdout",
     "output_type": "stream",
     "text": [
      "(50000, 5)\n",
      "Index(['Track_Id', 'Track_Title', 'Track_Genre', 'Track_Duration_Minutes',\n",
      "       'Track_Duration_Seconds'],\n",
      "      dtype='object')\n",
      "Track_Id                   int64\n",
      "Track_Title               object\n",
      "Track_Genre               object\n",
      "Track_Duration_Minutes     int64\n",
      "Track_Duration_Seconds     int64\n",
      "dtype: object\n"
     ]
    }
   ],
   "source": [
    "tracks_table = tracks()\n",
    "print(tracks_table.shape)\n",
    "print(tracks_table.columns)\n",
    "print(tracks_table.dtypes)\n",
    "\n",
    "\n",
    "## convert it to datetime format (duration)"
   ]
  },
  {
   "cell_type": "code",
   "execution_count": 7,
   "metadata": {},
   "outputs": [
    {
     "data": {
      "text/html": [
       "<div>\n",
       "<style scoped>\n",
       "    .dataframe tbody tr th:only-of-type {\n",
       "        vertical-align: middle;\n",
       "    }\n",
       "\n",
       "    .dataframe tbody tr th {\n",
       "        vertical-align: top;\n",
       "    }\n",
       "\n",
       "    .dataframe thead th {\n",
       "        text-align: right;\n",
       "    }\n",
       "</style>\n",
       "<table border=\"1\" class=\"dataframe\">\n",
       "  <thead>\n",
       "    <tr style=\"text-align: right;\">\n",
       "      <th></th>\n",
       "      <th>Track_Id</th>\n",
       "      <th>Track_Title</th>\n",
       "      <th>Track_Genre</th>\n",
       "      <th>Track_Duration_Minutes</th>\n",
       "      <th>Track_Duration_Seconds</th>\n",
       "    </tr>\n",
       "  </thead>\n",
       "  <tbody>\n",
       "    <tr>\n",
       "      <th>0</th>\n",
       "      <td>1</td>\n",
       "      <td>begfgw</td>\n",
       "      <td>pfux espkriol hjb</td>\n",
       "      <td>3</td>\n",
       "      <td>19</td>\n",
       "    </tr>\n",
       "    <tr>\n",
       "      <th>1</th>\n",
       "      <td>2</td>\n",
       "      <td>nfchpeo</td>\n",
       "      <td>aoun exqo qrop</td>\n",
       "      <td>2</td>\n",
       "      <td>13</td>\n",
       "    </tr>\n",
       "    <tr>\n",
       "      <th>2</th>\n",
       "      <td>3</td>\n",
       "      <td>gulrvk</td>\n",
       "      <td>dck</td>\n",
       "      <td>2</td>\n",
       "      <td>53</td>\n",
       "    </tr>\n",
       "    <tr>\n",
       "      <th>3</th>\n",
       "      <td>4</td>\n",
       "      <td>jagtcp</td>\n",
       "      <td>alht</td>\n",
       "      <td>2</td>\n",
       "      <td>32</td>\n",
       "    </tr>\n",
       "    <tr>\n",
       "      <th>4</th>\n",
       "      <td>5</td>\n",
       "      <td>tcmadckqota</td>\n",
       "      <td>dg gtcpj dtt</td>\n",
       "      <td>4</td>\n",
       "      <td>57</td>\n",
       "    </tr>\n",
       "  </tbody>\n",
       "</table>\n",
       "</div>"
      ],
      "text/plain": [
       "   Track_Id  Track_Title        Track_Genre  Track_Duration_Minutes  \\\n",
       "0         1       begfgw  pfux espkriol hjb                       3   \n",
       "1         2      nfchpeo     aoun exqo qrop                       2   \n",
       "2         3       gulrvk                dck                       2   \n",
       "3         4       jagtcp               alht                       2   \n",
       "4         5  tcmadckqota       dg gtcpj dtt                       4   \n",
       "\n",
       "   Track_Duration_Seconds  \n",
       "0                      19  \n",
       "1                      13  \n",
       "2                      53  \n",
       "3                      32  \n",
       "4                      57  "
      ]
     },
     "execution_count": 7,
     "metadata": {},
     "output_type": "execute_result"
    }
   ],
   "source": [
    "tracks_table.head()"
   ]
  },
  {
   "cell_type": "code",
   "execution_count": null,
   "metadata": {},
   "outputs": [],
   "source": []
  },
  {
   "cell_type": "code",
   "execution_count": 8,
   "metadata": {},
   "outputs": [
    {
     "name": "stdout",
     "output_type": "stream",
     "text": [
      "(500, 2)\n",
      "Index(['Artist_Id', 'Artist_Name'], dtype='object')\n",
      "Artist_Id       int64\n",
      "Artist_Name    object\n",
      "dtype: object\n"
     ]
    }
   ],
   "source": [
    "artist_table = artist()\n",
    "print(artist_table.shape)\n",
    "print(artist_table.columns)\n",
    "print(artist_table.dtypes)"
   ]
  },
  {
   "cell_type": "code",
   "execution_count": 9,
   "metadata": {},
   "outputs": [
    {
     "data": {
      "text/html": [
       "<div>\n",
       "<style scoped>\n",
       "    .dataframe tbody tr th:only-of-type {\n",
       "        vertical-align: middle;\n",
       "    }\n",
       "\n",
       "    .dataframe tbody tr th {\n",
       "        vertical-align: top;\n",
       "    }\n",
       "\n",
       "    .dataframe thead th {\n",
       "        text-align: right;\n",
       "    }\n",
       "</style>\n",
       "<table border=\"1\" class=\"dataframe\">\n",
       "  <thead>\n",
       "    <tr style=\"text-align: right;\">\n",
       "      <th></th>\n",
       "      <th>Artist_Id</th>\n",
       "      <th>Artist_Name</th>\n",
       "    </tr>\n",
       "  </thead>\n",
       "  <tbody>\n",
       "    <tr>\n",
       "      <th>0</th>\n",
       "      <td>1</td>\n",
       "      <td>begfg</td>\n",
       "    </tr>\n",
       "    <tr>\n",
       "      <th>1</th>\n",
       "      <td>2</td>\n",
       "      <td>wnfchp</td>\n",
       "    </tr>\n",
       "    <tr>\n",
       "      <th>2</th>\n",
       "      <td>3</td>\n",
       "      <td>gulrv</td>\n",
       "    </tr>\n",
       "    <tr>\n",
       "      <th>3</th>\n",
       "      <td>4</td>\n",
       "      <td>kjagt</td>\n",
       "    </tr>\n",
       "    <tr>\n",
       "      <th>4</th>\n",
       "      <td>5</td>\n",
       "      <td>dttcmad</td>\n",
       "    </tr>\n",
       "  </tbody>\n",
       "</table>\n",
       "</div>"
      ],
      "text/plain": [
       "   Artist_Id Artist_Name\n",
       "0          1       begfg\n",
       "1          2      wnfchp\n",
       "2          3       gulrv\n",
       "3          4       kjagt\n",
       "4          5     dttcmad"
      ]
     },
     "execution_count": 9,
     "metadata": {},
     "output_type": "execute_result"
    }
   ],
   "source": [
    "artist_table.head()"
   ]
  },
  {
   "cell_type": "code",
   "execution_count": 10,
   "metadata": {},
   "outputs": [],
   "source": [
    "# def generate_follows_table(artist_table, user_table, mean_following, std_dev_following):\n",
    "#     follows_data = []\n",
    "#     for user_id in user_table['User_Id']:\n",
    "#         num_following = int(np.random.normal(mean_following, std_dev_following))\n",
    "#         if num_following < 1:\n",
    "#             num_following = 1\n",
    "#         artists_followed = np.random.choice(artist_table['Artist_Id'], num_following, replace=True)\n",
    "#         for artist_id in artists_followed:\n",
    "#             follows_data.append({'User_Id': user_id, 'Artist_Id': artist_id})\n",
    "\n",
    "#     follows_table = pd.DataFrame(follows_data)\n",
    "#     return follows_table\n",
    "\n",
    "# # Example usage\n",
    "# artist_table = pd.DataFrame({'Artist_Id': np.arange(1, 501), 'Artist_Name': ['Artist' + str(i) for i in range(1, 501)]})\n",
    "# user_table = pd.DataFrame({'User_Id': np.arange(1, 40001), 'User_Email': [f'user{i}@example.com' for i in range(1, 40001)]})\n",
    "\n",
    "# follows_rel_table = generate_follows_table(artist_table, user_table, 15, 5)\n",
    "# follows_rel_table.head(10)\n"
   ]
  },
  {
   "cell_type": "code",
   "execution_count": 11,
   "metadata": {},
   "outputs": [],
   "source": [
    "# follows_rel_table.shape"
   ]
  },
  {
   "cell_type": "code",
   "execution_count": 12,
   "metadata": {},
   "outputs": [],
   "source": [
    "# follows_rel_table.iloc[11:20:]"
   ]
  },
  {
   "cell_type": "code",
   "execution_count": 13,
   "metadata": {},
   "outputs": [],
   "source": [
    "# # Generating the relationship table\n",
    "# creates__rel_table = pd.DataFrame({\n",
    "#     'created_by': np.random.choice(artist_table['Artist_Id'], 5000),\n",
    "#     'album_created': album_table['Album_Id']\n",
    "# })"
   ]
  },
  {
   "cell_type": "code",
   "execution_count": 14,
   "metadata": {},
   "outputs": [],
   "source": [
    "# contains_rel_table = pd.DataFrame({\n",
    "#     'album_id': np.random.choice(album_table['Album_Id'], 5000),\n",
    "#     'track_id': np.arange(1, 5000 + 1)\n",
    "# })"
   ]
  },
  {
   "cell_type": "code",
   "execution_count": null,
   "metadata": {},
   "outputs": [],
   "source": []
  },
  {
   "cell_type": "code",
   "execution_count": null,
   "metadata": {},
   "outputs": [],
   "source": []
  },
  {
   "cell_type": "code",
   "execution_count": null,
   "metadata": {},
   "outputs": [],
   "source": []
  },
  {
   "cell_type": "code",
   "execution_count": 15,
   "metadata": {},
   "outputs": [
    {
     "name": "stdout",
     "output_type": "stream",
     "text": [
      "(10000, 4)\n",
      "Index(['User_Playlist_Id', 'Tite', 'public/private', 'track/podcast'], dtype='object')\n",
      "User_Playlist_Id     int64\n",
      "Tite                object\n",
      "public/private      object\n",
      "track/podcast       object\n",
      "dtype: object\n"
     ]
    }
   ],
   "source": [
    "user_playlist_table = user_playlist()\n",
    "print(user_playlist_table.shape)\n",
    "print(user_playlist_table.columns)\n",
    "print(user_playlist_table.dtypes)"
   ]
  },
  {
   "cell_type": "code",
   "execution_count": 16,
   "metadata": {},
   "outputs": [
    {
     "data": {
      "text/html": [
       "<div>\n",
       "<style scoped>\n",
       "    .dataframe tbody tr th:only-of-type {\n",
       "        vertical-align: middle;\n",
       "    }\n",
       "\n",
       "    .dataframe tbody tr th {\n",
       "        vertical-align: top;\n",
       "    }\n",
       "\n",
       "    .dataframe thead th {\n",
       "        text-align: right;\n",
       "    }\n",
       "</style>\n",
       "<table border=\"1\" class=\"dataframe\">\n",
       "  <thead>\n",
       "    <tr style=\"text-align: right;\">\n",
       "      <th></th>\n",
       "      <th>User_Playlist_Id</th>\n",
       "      <th>Tite</th>\n",
       "      <th>public/private</th>\n",
       "      <th>track/podcast</th>\n",
       "    </tr>\n",
       "  </thead>\n",
       "  <tbody>\n",
       "    <tr>\n",
       "      <th>0</th>\n",
       "      <td>1</td>\n",
       "      <td>begfgwnfchp</td>\n",
       "      <td>public</td>\n",
       "      <td>podcast</td>\n",
       "    </tr>\n",
       "    <tr>\n",
       "      <th>1</th>\n",
       "      <td>2</td>\n",
       "      <td>eodgulrvkjag</td>\n",
       "      <td>private</td>\n",
       "      <td>podcast</td>\n",
       "    </tr>\n",
       "    <tr>\n",
       "      <th>2</th>\n",
       "      <td>3</td>\n",
       "      <td>jdttcmadckqot</td>\n",
       "      <td>public</td>\n",
       "      <td>track</td>\n",
       "    </tr>\n",
       "    <tr>\n",
       "      <th>3</th>\n",
       "      <td>4</td>\n",
       "      <td>aalhtyonhee</td>\n",
       "      <td>private</td>\n",
       "      <td>podcast</td>\n",
       "    </tr>\n",
       "    <tr>\n",
       "      <th>4</th>\n",
       "      <td>5</td>\n",
       "      <td>ntntbjulfxatp</td>\n",
       "      <td>private</td>\n",
       "      <td>podcast</td>\n",
       "    </tr>\n",
       "  </tbody>\n",
       "</table>\n",
       "</div>"
      ],
      "text/plain": [
       "   User_Playlist_Id           Tite public/private track/podcast\n",
       "0                 1    begfgwnfchp         public       podcast\n",
       "1                 2   eodgulrvkjag        private       podcast\n",
       "2                 3  jdttcmadckqot         public         track\n",
       "3                 4    aalhtyonhee        private       podcast\n",
       "4                 5  ntntbjulfxatp        private       podcast"
      ]
     },
     "execution_count": 16,
     "metadata": {},
     "output_type": "execute_result"
    }
   ],
   "source": [
    "user_playlist_table.head()"
   ]
  },
  {
   "cell_type": "code",
   "execution_count": 17,
   "metadata": {},
   "outputs": [
    {
     "name": "stdout",
     "output_type": "stream",
     "text": [
      "(2004, 5)\n",
      "Index(['Podcast Id', 'Podcast Title', 'Episode Number', 'Episode Date',\n",
      "       'Host Name'],\n",
      "      dtype='object')\n",
      "Podcast Id         int64\n",
      "Podcast Title     object\n",
      "Episode Number     int64\n",
      "Episode Date      object\n",
      "Host Name         object\n",
      "dtype: object\n"
     ]
    },
    {
     "data": {
      "text/html": [
       "<div>\n",
       "<style scoped>\n",
       "    .dataframe tbody tr th:only-of-type {\n",
       "        vertical-align: middle;\n",
       "    }\n",
       "\n",
       "    .dataframe tbody tr th {\n",
       "        vertical-align: top;\n",
       "    }\n",
       "\n",
       "    .dataframe thead th {\n",
       "        text-align: right;\n",
       "    }\n",
       "</style>\n",
       "<table border=\"1\" class=\"dataframe\">\n",
       "  <thead>\n",
       "    <tr style=\"text-align: right;\">\n",
       "      <th></th>\n",
       "      <th>Podcast Id</th>\n",
       "      <th>Podcast Title</th>\n",
       "      <th>Episode Number</th>\n",
       "      <th>Episode Date</th>\n",
       "      <th>Host Name</th>\n",
       "    </tr>\n",
       "  </thead>\n",
       "  <tbody>\n",
       "    <tr>\n",
       "      <th>0</th>\n",
       "      <td>1</td>\n",
       "      <td>exmusitojfozotrx ipjaeowmtij</td>\n",
       "      <td>1</td>\n",
       "      <td>22/04/2018</td>\n",
       "      <td>beg fgwnfc</td>\n",
       "    </tr>\n",
       "    <tr>\n",
       "      <th>1</th>\n",
       "      <td>2</td>\n",
       "      <td>exmusitojfozotrx ipjaeowmtij</td>\n",
       "      <td>2</td>\n",
       "      <td>29/04/2018</td>\n",
       "      <td>beg fgwnfc</td>\n",
       "    </tr>\n",
       "    <tr>\n",
       "      <th>2</th>\n",
       "      <td>3</td>\n",
       "      <td>exmusitojfozotrx ipjaeowmtij</td>\n",
       "      <td>3</td>\n",
       "      <td>06/05/2018</td>\n",
       "      <td>beg fgwnfc</td>\n",
       "    </tr>\n",
       "    <tr>\n",
       "      <th>3</th>\n",
       "      <td>4</td>\n",
       "      <td>exmusitojfozotrx ipjaeowmtij</td>\n",
       "      <td>4</td>\n",
       "      <td>13/05/2018</td>\n",
       "      <td>beg fgwnfc</td>\n",
       "    </tr>\n",
       "    <tr>\n",
       "      <th>4</th>\n",
       "      <td>5</td>\n",
       "      <td>exmusitojfozotrx ipjaeowmtij</td>\n",
       "      <td>5</td>\n",
       "      <td>20/05/2018</td>\n",
       "      <td>beg fgwnfc</td>\n",
       "    </tr>\n",
       "  </tbody>\n",
       "</table>\n",
       "</div>"
      ],
      "text/plain": [
       "   Podcast Id                 Podcast Title  Episode Number Episode Date  \\\n",
       "0           1  exmusitojfozotrx ipjaeowmtij               1   22/04/2018   \n",
       "1           2  exmusitojfozotrx ipjaeowmtij               2   29/04/2018   \n",
       "2           3  exmusitojfozotrx ipjaeowmtij               3   06/05/2018   \n",
       "3           4  exmusitojfozotrx ipjaeowmtij               4   13/05/2018   \n",
       "4           5  exmusitojfozotrx ipjaeowmtij               5   20/05/2018   \n",
       "\n",
       "    Host Name  \n",
       "0  beg fgwnfc  \n",
       "1  beg fgwnfc  \n",
       "2  beg fgwnfc  \n",
       "3  beg fgwnfc  \n",
       "4  beg fgwnfc  "
      ]
     },
     "execution_count": 17,
     "metadata": {},
     "output_type": "execute_result"
    }
   ],
   "source": [
    "podcast_table = podcast()\n",
    "print(podcast_table.shape)\n",
    "print(podcast_table.columns)\n",
    "print(podcast_table.dtypes)\n",
    "\n",
    "podcast_table.head()"
   ]
  },
  {
   "cell_type": "code",
   "execution_count": 18,
   "metadata": {},
   "outputs": [
    {
     "name": "stdout",
     "output_type": "stream",
     "text": [
      "(10000, 4)\n",
      "Index(['Subscriber ID', 'Start Date', 'End Date', 'Canceled or Not'], dtype='object')\n",
      "Subscriber ID               int64\n",
      "Start Date         datetime64[ns]\n",
      "End Date           datetime64[ns]\n",
      "Canceled or Not            object\n",
      "dtype: object\n"
     ]
    }
   ],
   "source": [
    "premium_subscription_table = premium_subscription_df()\n",
    "print(premium_subscription_table.shape)\n",
    "print(premium_subscription_table.columns)\n",
    "print(premium_subscription_table.dtypes)"
   ]
  },
  {
   "cell_type": "code",
   "execution_count": 19,
   "metadata": {},
   "outputs": [
    {
     "data": {
      "text/plain": [
       "Subscriber ID      0\n",
       "Start Date         0\n",
       "End Date           0\n",
       "Canceled or Not    0\n",
       "dtype: int64"
      ]
     },
     "execution_count": 19,
     "metadata": {},
     "output_type": "execute_result"
    }
   ],
   "source": [
    "premium_subscription_table.isna().sum()"
   ]
  },
  {
   "cell_type": "code",
   "execution_count": 20,
   "metadata": {},
   "outputs": [
    {
     "data": {
      "text/html": [
       "<div>\n",
       "<style scoped>\n",
       "    .dataframe tbody tr th:only-of-type {\n",
       "        vertical-align: middle;\n",
       "    }\n",
       "\n",
       "    .dataframe tbody tr th {\n",
       "        vertical-align: top;\n",
       "    }\n",
       "\n",
       "    .dataframe thead th {\n",
       "        text-align: right;\n",
       "    }\n",
       "</style>\n",
       "<table border=\"1\" class=\"dataframe\">\n",
       "  <thead>\n",
       "    <tr style=\"text-align: right;\">\n",
       "      <th></th>\n",
       "      <th>Subscriber ID</th>\n",
       "      <th>Start Date</th>\n",
       "      <th>End Date</th>\n",
       "      <th>Canceled or Not</th>\n",
       "    </tr>\n",
       "  </thead>\n",
       "  <tbody>\n",
       "    <tr>\n",
       "      <th>0</th>\n",
       "      <td>1</td>\n",
       "      <td>2018-04-21</td>\n",
       "      <td>2099-01-01</td>\n",
       "      <td>renew</td>\n",
       "    </tr>\n",
       "    <tr>\n",
       "      <th>1</th>\n",
       "      <td>2</td>\n",
       "      <td>2018-05-14</td>\n",
       "      <td>2099-01-01</td>\n",
       "      <td>renew</td>\n",
       "    </tr>\n",
       "    <tr>\n",
       "      <th>2</th>\n",
       "      <td>3</td>\n",
       "      <td>2018-03-13</td>\n",
       "      <td>2099-01-01</td>\n",
       "      <td>renew</td>\n",
       "    </tr>\n",
       "    <tr>\n",
       "      <th>3</th>\n",
       "      <td>4</td>\n",
       "      <td>2018-08-19</td>\n",
       "      <td>2099-01-01</td>\n",
       "      <td>renew</td>\n",
       "    </tr>\n",
       "    <tr>\n",
       "      <th>4</th>\n",
       "      <td>5</td>\n",
       "      <td>2018-03-13</td>\n",
       "      <td>2099-01-01</td>\n",
       "      <td>renew</td>\n",
       "    </tr>\n",
       "  </tbody>\n",
       "</table>\n",
       "</div>"
      ],
      "text/plain": [
       "   Subscriber ID Start Date   End Date Canceled or Not\n",
       "0              1 2018-04-21 2099-01-01           renew\n",
       "1              2 2018-05-14 2099-01-01           renew\n",
       "2              3 2018-03-13 2099-01-01           renew\n",
       "3              4 2018-08-19 2099-01-01           renew\n",
       "4              5 2018-03-13 2099-01-01           renew"
      ]
     },
     "execution_count": 20,
     "metadata": {},
     "output_type": "execute_result"
    }
   ],
   "source": [
    "premium_subscription_table.head()"
   ]
  },
  {
   "cell_type": "code",
   "execution_count": 21,
   "metadata": {},
   "outputs": [
    {
     "name": "stdout",
     "output_type": "stream",
     "text": [
      "(426392, 3)\n",
      "Index(['Subscriber ID', 'Payment Method', 'Transaction Date'], dtype='object')\n",
      "Subscriber ID                int64\n",
      "Payment Method              object\n",
      "Transaction Date    datetime64[ns]\n",
      "dtype: object\n"
     ]
    }
   ],
   "source": [
    "transaction_table = transaction()\n",
    "print(transaction_table.shape)\n",
    "print(transaction_table.columns)\n",
    "print(transaction_table.dtypes)"
   ]
  },
  {
   "cell_type": "code",
   "execution_count": 22,
   "metadata": {},
   "outputs": [
    {
     "data": {
      "text/plain": [
       "Subscriber ID       0\n",
       "Payment Method      0\n",
       "Transaction Date    0\n",
       "dtype: int64"
      ]
     },
     "execution_count": 22,
     "metadata": {},
     "output_type": "execute_result"
    }
   ],
   "source": [
    "transaction_table.isna().sum()"
   ]
  },
  {
   "cell_type": "code",
   "execution_count": 23,
   "metadata": {},
   "outputs": [
    {
     "data": {
      "text/html": [
       "<div>\n",
       "<style scoped>\n",
       "    .dataframe tbody tr th:only-of-type {\n",
       "        vertical-align: middle;\n",
       "    }\n",
       "\n",
       "    .dataframe tbody tr th {\n",
       "        vertical-align: top;\n",
       "    }\n",
       "\n",
       "    .dataframe thead th {\n",
       "        text-align: right;\n",
       "    }\n",
       "</style>\n",
       "<table border=\"1\" class=\"dataframe\">\n",
       "  <thead>\n",
       "    <tr style=\"text-align: right;\">\n",
       "      <th></th>\n",
       "      <th>Subscriber ID</th>\n",
       "      <th>Payment Method</th>\n",
       "      <th>Transaction Date</th>\n",
       "    </tr>\n",
       "  </thead>\n",
       "  <tbody>\n",
       "    <tr>\n",
       "      <th>0</th>\n",
       "      <td>1</td>\n",
       "      <td>Debit Card</td>\n",
       "      <td>2018-04-21</td>\n",
       "    </tr>\n",
       "    <tr>\n",
       "      <th>1</th>\n",
       "      <td>1</td>\n",
       "      <td>Credit Card</td>\n",
       "      <td>2018-05-21</td>\n",
       "    </tr>\n",
       "    <tr>\n",
       "      <th>2</th>\n",
       "      <td>1</td>\n",
       "      <td>Credit Card</td>\n",
       "      <td>2018-06-21</td>\n",
       "    </tr>\n",
       "    <tr>\n",
       "      <th>3</th>\n",
       "      <td>1</td>\n",
       "      <td>Credit Card</td>\n",
       "      <td>2018-07-21</td>\n",
       "    </tr>\n",
       "    <tr>\n",
       "      <th>4</th>\n",
       "      <td>1</td>\n",
       "      <td>Credit Card</td>\n",
       "      <td>2018-08-21</td>\n",
       "    </tr>\n",
       "  </tbody>\n",
       "</table>\n",
       "</div>"
      ],
      "text/plain": [
       "   Subscriber ID Payment Method Transaction Date\n",
       "0              1     Debit Card       2018-04-21\n",
       "1              1    Credit Card       2018-05-21\n",
       "2              1    Credit Card       2018-06-21\n",
       "3              1    Credit Card       2018-07-21\n",
       "4              1    Credit Card       2018-08-21"
      ]
     },
     "execution_count": 23,
     "metadata": {},
     "output_type": "execute_result"
    }
   ],
   "source": [
    "transaction_table.head()"
   ]
  },
  {
   "cell_type": "code",
   "execution_count": null,
   "metadata": {},
   "outputs": [],
   "source": []
  },
  {
   "cell_type": "code",
   "execution_count": 24,
   "metadata": {},
   "outputs": [
    {
     "ename": "NameError",
     "evalue": "name 'stop' is not defined",
     "output_type": "error",
     "traceback": [
      "\u001b[1;31m---------------------------------------------------------------------------\u001b[0m",
      "\u001b[1;31mNameError\u001b[0m                                 Traceback (most recent call last)",
      "\u001b[1;32md:\\OneDrive - University at Buffalo\\Projects\\DMQL\\group_project\\joining_tables.ipynb Cell 29\u001b[0m line \u001b[0;36m3\n\u001b[0;32m      <a href='vscode-notebook-cell:/d%3A/OneDrive%20-%20University%20at%20Buffalo/Projects/DMQL/group_project/joining_tables.ipynb#X40sZmlsZQ%3D%3D?line=0'>1</a>\u001b[0m \u001b[39m# user_table\u001b[39;00m\n\u001b[0;32m      <a href='vscode-notebook-cell:/d%3A/OneDrive%20-%20University%20at%20Buffalo/Projects/DMQL/group_project/joining_tables.ipynb#X40sZmlsZQ%3D%3D?line=1'>2</a>\u001b[0m \u001b[39m# (40000, 6)\u001b[39;00m\n\u001b[0;32m      <a href='vscode-notebook-cell:/d%3A/OneDrive%20-%20University%20at%20Buffalo/Projects/DMQL/group_project/joining_tables.ipynb#X40sZmlsZQ%3D%3D?line=2'>3</a>\u001b[0m \u001b[39m# Index(['User_Id', 'User_Email', 'User_Encrypted_Pass', 'User_Region',\u001b[39;00m\n\u001b[1;32m   (...)\u001b[0m\n\u001b[0;32m     <a href='vscode-notebook-cell:/d%3A/OneDrive%20-%20University%20at%20Buffalo/Projects/DMQL/group_project/joining_tables.ipynb#X40sZmlsZQ%3D%3D?line=30'>31</a>\u001b[0m \n\u001b[0;32m     <a href='vscode-notebook-cell:/d%3A/OneDrive%20-%20University%20at%20Buffalo/Projects/DMQL/group_project/joining_tables.ipynb#X40sZmlsZQ%3D%3D?line=31'>32</a>\u001b[0m \u001b[39m# they are all \u001b[39;00m\n\u001b[1;32m---> <a href='vscode-notebook-cell:/d%3A/OneDrive%20-%20University%20at%20Buffalo/Projects/DMQL/group_project/joining_tables.ipynb#X40sZmlsZQ%3D%3D?line=33'>34</a>\u001b[0m stop\n",
      "\u001b[1;31mNameError\u001b[0m: name 'stop' is not defined"
     ]
    }
   ],
   "source": [
    "# user_table\n",
    "# (40000, 6)\n",
    "# Index(['User_Id', 'User_Email', 'User_Encrypted_Pass', 'User_Region',\n",
    "#        'Is_Subscribed', 'Subscription_id'],\n",
    "#       dtype='object')\n",
    "\n",
    "# album_table\n",
    "# (5000, 3)\n",
    "# Index(['Album_Id', 'Album_Title', 'Album_Release_Date'], dtype='object')\n",
    "\n",
    "# tracks_table\n",
    "# (50000, 4)\n",
    "# Index(['Track_Id', 'Track_Title', 'Track_Duration', 'Track_Genre'], dtype='object')\n",
    "\n",
    "# artists_table\n",
    "# (500, 2)\n",
    "# Index(['Artist_Id', 'Artist_Name'], dtype='object')\n",
    "\n",
    "# user_playlist_table\n",
    "# (10000, 3)\n",
    "# Index(['Tite', 'public/private', 'track/podcast'], dtype='object')\n",
    "\n",
    "# podcast_table\n",
    "# (2269, 4)\n",
    "# Index(['Podcast Title', 'Episode Number', 'Episode Date', 'Host Name'], dtype='object')\n",
    "\n",
    "# premium_subscription_table\n",
    "# (10000, 4)\n",
    "# Index(['Subscriber ID', 'Start Date', 'End Date', 'Canceled or Not'], dtype='object')\n",
    "\n",
    "\n",
    "# they are all \n",
    "\n",
    "# stop"
   ]
  },
  {
   "cell_type": "code",
   "execution_count": 27,
   "metadata": {},
   "outputs": [],
   "source": [
    "# Create an Excel writer using XlsxWriter as the engine\n",
    "writer = pd.ExcelWriter('group_project.xlsx', engine='xlsxwriter')\n",
    "\n",
    "# Write each dataframe to a different worksheet\n",
    "user_table.to_excel(writer, sheet_name='User', index=False)\n",
    "artist_table.to_excel(writer, sheet_name='Artist', index=False)\n",
    "album_table.to_excel(writer, sheet_name='Album', index=False)\n",
    "tracks_table.to_excel(writer, sheet_name='Tracks', index=False)\n",
    "podcast_table.to_excel(writer, sheet_name='Podcasts', index=False)\n",
    "user_playlist_table.to_excel(writer, sheet_name='User Playlist', index=False)\n",
    "premium_subscription_table.to_excel(writer, sheet_name='Premium Subscription', index=False)\n",
    "transaction_table.to_excel(writer, sheet_name='Transactions', index=False)\n",
    "\n",
    "# Save the result\n",
    "writer.close()\n"
   ]
  },
  {
   "cell_type": "code",
   "execution_count": null,
   "metadata": {},
   "outputs": [],
   "source": []
  }
 ],
 "metadata": {
  "kernelspec": {
   "display_name": "Python 3",
   "language": "python",
   "name": "python3"
  },
  "language_info": {
   "codemirror_mode": {
    "name": "ipython",
    "version": 3
   },
   "file_extension": ".py",
   "mimetype": "text/x-python",
   "name": "python",
   "nbconvert_exporter": "python",
   "pygments_lexer": "ipython3",
   "version": "3.11.3"
  }
 },
 "nbformat": 4,
 "nbformat_minor": 2
}
